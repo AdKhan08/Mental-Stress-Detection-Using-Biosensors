{
  "nbformat": 4,
  "nbformat_minor": 0,
  "metadata": {
    "colab": {
      "provenance": [],
      "include_colab_link": true
    },
    "kernelspec": {
      "name": "python3",
      "display_name": "Python 3"
    },
    "language_info": {
      "name": "python"
    }
  },
  "cells": [
    {
      "cell_type": "markdown",
      "metadata": {
        "id": "view-in-github",
        "colab_type": "text"
      },
      "source": [
        "<a href=\"https://colab.research.google.com/github/AdKhan08/Mental-Stress-Detection-Using-Biosensors/blob/main/Neural_Network.ipynb\" target=\"_parent\"><img src=\"https://colab.research.google.com/assets/colab-badge.svg\" alt=\"Open In Colab\"/></a>"
      ]
    },
    {
      "cell_type": "code",
      "execution_count": 4,
      "metadata": {
        "id": "aIbi-sFTQi5C"
      },
      "outputs": [],
      "source": [
        "from google.colab import drive\n",
        "import pandas as pd\n",
        "import numpy as np\n",
        "from sklearn.model_selection import train_test_split\n",
        "from sklearn.preprocessing import LabelEncoder, StandardScaler\n",
        "from sklearn.metrics import accuracy_score, classification_report\n",
        "import tensorflow as tf\n",
        "from tensorflow.keras.models import Sequential\n",
        "from tensorflow.keras.layers import Dense, Dropout"
      ]
    },
    {
      "cell_type": "code",
      "source": [
        "drive.mount('/content/drive')\n",
        "\n",
        "file_path = '/content/drive/MyDrive/Biosensor_Stress_Analysis_Kaggle - Sheet1.csv'\n",
        "data = pd.read_csv(file_path)"
      ],
      "metadata": {
        "colab": {
          "base_uri": "https://localhost:8080/"
        },
        "id": "pKWLPpzRQpsV",
        "outputId": "07d6a251-5ad7-4404-ecf4-16ebf8f78ef3"
      },
      "execution_count": 5,
      "outputs": [
        {
          "output_type": "stream",
          "name": "stdout",
          "text": [
            "Mounted at /content/drive\n"
          ]
        }
      ]
    },
    {
      "cell_type": "code",
      "source": [
        "from google.colab import drive\n",
        "drive.mount('/content/drive')"
      ],
      "metadata": {
        "colab": {
          "base_uri": "https://localhost:8080/"
        },
        "id": "UzXy69_0QHI0",
        "outputId": "e9ed36c1-3f49-4eb1-c74c-850163ca1351"
      },
      "execution_count": 6,
      "outputs": [
        {
          "output_type": "stream",
          "name": "stdout",
          "text": [
            "Drive already mounted at /content/drive; to attempt to forcibly remount, call drive.mount(\"/content/drive\", force_remount=True).\n"
          ]
        }
      ]
    },
    {
      "cell_type": "code",
      "source": [
        "data.rename(columns={\n",
        "    'Systolic BP (mmHg)': 'Systolic BP',\n",
        "    'Systolic BP (mmHg).1': 'Diastolic BP'\n",
        "}, inplace=True)\n",
        "\n",
        "data = data.drop(columns=['Unnamed: 0'])"
      ],
      "metadata": {
        "id": "QNB-JvovQx2g"
      },
      "execution_count": 7,
      "outputs": []
    },
    {
      "cell_type": "code",
      "source": [
        "label_encoder = LabelEncoder()\n",
        "data['Stress Level'] = label_encoder.fit_transform(data['Stress Level'])\n",
        "\n",
        "X = data.drop(columns=['Stress Level'])\n",
        "y = data['Stress Level']\n",
        "\n",
        "scaler = StandardScaler()\n",
        "X = scaler.fit_transform(X)\n",
        "\n",
        "X_train, X_test, y_train, y_test = train_test_split(X, y, test_size=0.2, random_state=42)\n",
        "\n",
        "y_train = tf.keras.utils.to_categorical(y_train, num_classes=3)\n",
        "y_test = tf.keras.utils.to_categorical(y_test, num_classes=3)\n",
        "\n",
        "model = Sequential()\n",
        "model.add(Dense(64, input_dim=X_train.shape[1], activation='relu'))\n",
        "model.add(Dropout(0.5))\n",
        "model.add(Dense(64, activation='relu'))\n",
        "model.add(Dropout(0.5))\n",
        "model.add(Dense(3, activation='softmax'))\n",
        "\n",
        "model.compile(loss='categorical_crossentropy', optimizer='adam', metrics=['accuracy'])\n",
        "\n",
        "history = model.fit(X_train, y_train, epochs=50, batch_size=8, validation_split=0.2, verbose=2)\n",
        "\n",
        "loss, accuracy = model.evaluate(X_test, y_test, verbose=0)\n",
        "print(f\"Accuracy: {accuracy}\")\n",
        "\n",
        "y_pred = model.predict(X_test)\n",
        "y_pred_classes = np.argmax(y_pred, axis=1)\n",
        "y_test_classes = np.argmax(y_test, axis=1)\n",
        "\n",
        "report = classification_report(y_test_classes, y_pred_classes, target_names=label_encoder.classes_)\n",
        "print(\"Classification Report:\")\n",
        "print(report)"
      ],
      "metadata": {
        "colab": {
          "base_uri": "https://localhost:8080/"
        },
        "id": "jmmLUT2gQ7vo",
        "outputId": "06899d6e-a71b-4812-b125-4dba5bf255e7"
      },
      "execution_count": 8,
      "outputs": [
        {
          "output_type": "stream",
          "name": "stderr",
          "text": [
            "/usr/local/lib/python3.11/dist-packages/keras/src/layers/core/dense.py:87: UserWarning: Do not pass an `input_shape`/`input_dim` argument to a layer. When using Sequential models, prefer using an `Input(shape)` object as the first layer in the model instead.\n",
            "  super().__init__(activity_regularizer=activity_regularizer, **kwargs)\n"
          ]
        },
        {
          "output_type": "stream",
          "name": "stdout",
          "text": [
            "Epoch 1/50\n",
            "8/8 - 3s - 360ms/step - accuracy: 0.3281 - loss: 1.0965 - val_accuracy: 0.3750 - val_loss: 1.0950\n",
            "Epoch 2/50\n",
            "8/8 - 0s - 20ms/step - accuracy: 0.3750 - loss: 1.1224 - val_accuracy: 0.2500 - val_loss: 1.0963\n",
            "Epoch 3/50\n",
            "8/8 - 0s - 17ms/step - accuracy: 0.4219 - loss: 1.0734 - val_accuracy: 0.2500 - val_loss: 1.0952\n",
            "Epoch 4/50\n",
            "8/8 - 0s - 18ms/step - accuracy: 0.4531 - loss: 1.0454 - val_accuracy: 0.3125 - val_loss: 1.0979\n",
            "Epoch 5/50\n",
            "8/8 - 0s - 15ms/step - accuracy: 0.4688 - loss: 1.0619 - val_accuracy: 0.3125 - val_loss: 1.0987\n",
            "Epoch 6/50\n",
            "8/8 - 0s - 15ms/step - accuracy: 0.3750 - loss: 1.0280 - val_accuracy: 0.3750 - val_loss: 1.0987\n",
            "Epoch 7/50\n",
            "8/8 - 0s - 12ms/step - accuracy: 0.5000 - loss: 0.9864 - val_accuracy: 0.3750 - val_loss: 1.0884\n",
            "Epoch 8/50\n",
            "8/8 - 0s - 13ms/step - accuracy: 0.4844 - loss: 0.9828 - val_accuracy: 0.3750 - val_loss: 1.0988\n",
            "Epoch 9/50\n",
            "8/8 - 0s - 11ms/step - accuracy: 0.5625 - loss: 0.8689 - val_accuracy: 0.3750 - val_loss: 1.1124\n",
            "Epoch 10/50\n",
            "8/8 - 0s - 11ms/step - accuracy: 0.5781 - loss: 0.9058 - val_accuracy: 0.3750 - val_loss: 1.1198\n",
            "Epoch 11/50\n",
            "8/8 - 0s - 11ms/step - accuracy: 0.6562 - loss: 0.8396 - val_accuracy: 0.3750 - val_loss: 1.1114\n",
            "Epoch 12/50\n",
            "8/8 - 0s - 11ms/step - accuracy: 0.5469 - loss: 0.9580 - val_accuracy: 0.3750 - val_loss: 1.0824\n",
            "Epoch 13/50\n",
            "8/8 - 0s - 11ms/step - accuracy: 0.6719 - loss: 0.7614 - val_accuracy: 0.4375 - val_loss: 1.0724\n",
            "Epoch 14/50\n",
            "8/8 - 0s - 18ms/step - accuracy: 0.6875 - loss: 0.8081 - val_accuracy: 0.5000 - val_loss: 1.0510\n",
            "Epoch 15/50\n",
            "8/8 - 0s - 17ms/step - accuracy: 0.7188 - loss: 0.7465 - val_accuracy: 0.5000 - val_loss: 1.0400\n",
            "Epoch 16/50\n",
            "8/8 - 0s - 11ms/step - accuracy: 0.6719 - loss: 0.7829 - val_accuracy: 0.5000 - val_loss: 1.0399\n",
            "Epoch 17/50\n",
            "8/8 - 0s - 12ms/step - accuracy: 0.7188 - loss: 0.7710 - val_accuracy: 0.5625 - val_loss: 1.0277\n",
            "Epoch 18/50\n",
            "8/8 - 0s - 17ms/step - accuracy: 0.7500 - loss: 0.6619 - val_accuracy: 0.5000 - val_loss: 1.0357\n",
            "Epoch 19/50\n",
            "8/8 - 0s - 17ms/step - accuracy: 0.6875 - loss: 0.6831 - val_accuracy: 0.5000 - val_loss: 1.0506\n",
            "Epoch 20/50\n",
            "8/8 - 0s - 11ms/step - accuracy: 0.6719 - loss: 0.6544 - val_accuracy: 0.5000 - val_loss: 1.0563\n",
            "Epoch 21/50\n",
            "8/8 - 0s - 11ms/step - accuracy: 0.6406 - loss: 0.7583 - val_accuracy: 0.5625 - val_loss: 1.0425\n",
            "Epoch 22/50\n",
            "8/8 - 0s - 18ms/step - accuracy: 0.7656 - loss: 0.7319 - val_accuracy: 0.5625 - val_loss: 1.0408\n",
            "Epoch 23/50\n",
            "8/8 - 0s - 17ms/step - accuracy: 0.7344 - loss: 0.6788 - val_accuracy: 0.5625 - val_loss: 1.0474\n",
            "Epoch 24/50\n",
            "8/8 - 0s - 17ms/step - accuracy: 0.7812 - loss: 0.6294 - val_accuracy: 0.5625 - val_loss: 1.0520\n",
            "Epoch 25/50\n",
            "8/8 - 0s - 12ms/step - accuracy: 0.7969 - loss: 0.6091 - val_accuracy: 0.5625 - val_loss: 1.0693\n",
            "Epoch 26/50\n",
            "8/8 - 0s - 17ms/step - accuracy: 0.7812 - loss: 0.6233 - val_accuracy: 0.5625 - val_loss: 1.0654\n",
            "Epoch 27/50\n",
            "8/8 - 0s - 17ms/step - accuracy: 0.7500 - loss: 0.6269 - val_accuracy: 0.5625 - val_loss: 1.0655\n",
            "Epoch 28/50\n",
            "8/8 - 0s - 11ms/step - accuracy: 0.8125 - loss: 0.5262 - val_accuracy: 0.5625 - val_loss: 1.0804\n",
            "Epoch 29/50\n",
            "8/8 - 0s - 11ms/step - accuracy: 0.6875 - loss: 0.6192 - val_accuracy: 0.5625 - val_loss: 1.0880\n",
            "Epoch 30/50\n",
            "8/8 - 0s - 11ms/step - accuracy: 0.7656 - loss: 0.5634 - val_accuracy: 0.5625 - val_loss: 1.0839\n",
            "Epoch 31/50\n",
            "8/8 - 0s - 11ms/step - accuracy: 0.7656 - loss: 0.5609 - val_accuracy: 0.5625 - val_loss: 1.0840\n",
            "Epoch 32/50\n",
            "8/8 - 0s - 17ms/step - accuracy: 0.8438 - loss: 0.4944 - val_accuracy: 0.5625 - val_loss: 1.1006\n",
            "Epoch 33/50\n",
            "8/8 - 0s - 11ms/step - accuracy: 0.7969 - loss: 0.5739 - val_accuracy: 0.5625 - val_loss: 1.1136\n",
            "Epoch 34/50\n",
            "8/8 - 0s - 13ms/step - accuracy: 0.8281 - loss: 0.5547 - val_accuracy: 0.5625 - val_loss: 1.1206\n",
            "Epoch 35/50\n",
            "8/8 - 0s - 18ms/step - accuracy: 0.7656 - loss: 0.5398 - val_accuracy: 0.5625 - val_loss: 1.1284\n",
            "Epoch 36/50\n",
            "8/8 - 0s - 16ms/step - accuracy: 0.7344 - loss: 0.6450 - val_accuracy: 0.5625 - val_loss: 1.1393\n",
            "Epoch 37/50\n",
            "8/8 - 0s - 12ms/step - accuracy: 0.8125 - loss: 0.4799 - val_accuracy: 0.5625 - val_loss: 1.1286\n",
            "Epoch 38/50\n",
            "8/8 - 0s - 12ms/step - accuracy: 0.7812 - loss: 0.5707 - val_accuracy: 0.5625 - val_loss: 1.1429\n",
            "Epoch 39/50\n",
            "8/8 - 0s - 18ms/step - accuracy: 0.7969 - loss: 0.4758 - val_accuracy: 0.5625 - val_loss: 1.1423\n",
            "Epoch 40/50\n",
            "8/8 - 0s - 17ms/step - accuracy: 0.7812 - loss: 0.5394 - val_accuracy: 0.5625 - val_loss: 1.1200\n",
            "Epoch 41/50\n",
            "8/8 - 0s - 17ms/step - accuracy: 0.7969 - loss: 0.5108 - val_accuracy: 0.5625 - val_loss: 1.1313\n",
            "Epoch 42/50\n",
            "8/8 - 0s - 18ms/step - accuracy: 0.7969 - loss: 0.4627 - val_accuracy: 0.5625 - val_loss: 1.1400\n",
            "Epoch 43/50\n",
            "8/8 - 0s - 13ms/step - accuracy: 0.7812 - loss: 0.4659 - val_accuracy: 0.5625 - val_loss: 1.1559\n",
            "Epoch 44/50\n",
            "8/8 - 0s - 16ms/step - accuracy: 0.7656 - loss: 0.5168 - val_accuracy: 0.5625 - val_loss: 1.1745\n",
            "Epoch 45/50\n",
            "8/8 - 0s - 11ms/step - accuracy: 0.7344 - loss: 0.5361 - val_accuracy: 0.6250 - val_loss: 1.1560\n",
            "Epoch 46/50\n",
            "8/8 - 0s - 17ms/step - accuracy: 0.8281 - loss: 0.4530 - val_accuracy: 0.5625 - val_loss: 1.1773\n",
            "Epoch 47/50\n",
            "8/8 - 0s - 11ms/step - accuracy: 0.7812 - loss: 0.4489 - val_accuracy: 0.5625 - val_loss: 1.1962\n",
            "Epoch 48/50\n",
            "8/8 - 0s - 17ms/step - accuracy: 0.8594 - loss: 0.3940 - val_accuracy: 0.6250 - val_loss: 1.1993\n",
            "Epoch 49/50\n",
            "8/8 - 0s - 11ms/step - accuracy: 0.8438 - loss: 0.4583 - val_accuracy: 0.6250 - val_loss: 1.2094\n",
            "Epoch 50/50\n",
            "8/8 - 0s - 18ms/step - accuracy: 0.8750 - loss: 0.3696 - val_accuracy: 0.6250 - val_loss: 1.2202\n",
            "Accuracy: 0.6000000238418579\n",
            "\u001b[1m1/1\u001b[0m \u001b[32m━━━━━━━━━━━━━━━━━━━━\u001b[0m\u001b[37m\u001b[0m \u001b[1m0s\u001b[0m 65ms/step\n",
            "Classification Report:\n",
            "              precision    recall  f1-score   support\n",
            "\n",
            "        high       0.67      0.44      0.53         9\n",
            "         low       0.86      1.00      0.92         6\n",
            "      medium       0.29      0.40      0.33         5\n",
            "\n",
            "    accuracy                           0.60        20\n",
            "   macro avg       0.60      0.61      0.60        20\n",
            "weighted avg       0.63      0.60      0.60        20\n",
            "\n"
          ]
        }
      ]
    },
    {
      "cell_type": "code",
      "source": [],
      "metadata": {
        "id": "ZlKVdCzjQ9gR"
      },
      "execution_count": null,
      "outputs": []
    }
  ]
}